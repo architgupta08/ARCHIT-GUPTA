{
  "nbformat": 4,
  "nbformat_minor": 0,
  "metadata": {
    "colab": {
      "provenance": [],
      "authorship_tag": "ABX9TyM2QeG5ZppLPS3znYKi++PV",
      "include_colab_link": true
    },
    "kernelspec": {
      "name": "python3",
      "display_name": "Python 3"
    },
    "language_info": {
      "name": "python"
    }
  },
  "cells": [
    {
      "cell_type": "markdown",
      "metadata": {
        "id": "view-in-github",
        "colab_type": "text"
      },
      "source": [
        "<a href=\"https://colab.research.google.com/github/architgupta08/ARCHIT-GUPTA/blob/main/Untitled3.ipynb\" target=\"_parent\"><img src=\"https://colab.research.google.com/assets/colab-badge.svg\" alt=\"Open In Colab\"/></a>"
      ]
    },
    {
      "cell_type": "markdown",
      "source": [
        "project for internship at ybi foundation in ai ml"
      ],
      "metadata": {
        "id": "SVuURI9GxUk_"
      }
    },
    {
      "cell_type": "code",
      "source": [
        "# prompt: crrate a ml code for  bollywood  movie recomendation  system\n",
        "\n",
        "# Install necessary libraries\n",
        "!pip install scikit-learn pandas numpy\n",
        "\n",
        "import pandas as pd\n",
        "from sklearn.feature_extraction.text import TfidfVectorizer\n",
        "from sklearn.metrics.pairwise import cosine_similarity\n",
        "\n",
        "# Sample movie data (replace with your actual data)\n",
        "movies = {\n",
        "    'Movie': ['Dilwale Dulhania Le Jayenge', 'Lagaan', '3 Idiots', 'Dangal', 'PK'],\n",
        "    'Genre': ['Romance', 'Drama', 'Comedy', 'Sports', 'Sci-Fi'],\n",
        "    'Director': ['Aditya Chopra', 'Ashutosh Gowariker', 'Rajkumar Hirani', 'Nitesh Tiwari', 'Rajkumar Hirani'],\n",
        "    'Cast': ['Shah Rukh Khan, Kajol', 'Aamir Khan, Gracy Singh', 'Aamir Khan, Kareena Kapoor', 'Aamir Khan, Fatima Sana Shaikh', 'Aamir Khan, Anushka Sharma']\n",
        "}\n",
        "\n",
        "df = pd.DataFrame(movies)\n",
        "\n",
        "# Combine relevant features for content-based filtering\n",
        "df['Content'] = df['Genre'] + ' ' + df['Director'] + ' ' + df['Cast']\n",
        "\n",
        "# Create TF-IDF vectorizer\n",
        "tfidf = TfidfVectorizer(stop_words='english')\n",
        "tfidf_matrix = tfidf.fit_transform(df['Content'])\n",
        "\n",
        "# Calculate cosine similarity\n",
        "cosine_sim = cosine_similarity(tfidf_matrix, tfidf_matrix)\n",
        "\n",
        "# Function to recommend movies\n",
        "def recommend_movies(movie_title, cosine_sim=cosine_sim):\n",
        "    # Get index of the movie\n",
        "    idx = df[df['Movie'] == movie_title].index[0]\n",
        "\n",
        "    # Get similarity scores for all movies\n",
        "    similarity_scores = list(enumerate(cosine_sim[idx]))\n",
        "\n",
        "    # Sort movies by similarity score\n",
        "    similarity_scores = sorted(similarity_scores, key=lambda x: x[1], reverse=True)\n",
        "\n",
        "    # Get top 5 most similar movies (excluding the input movie)\n",
        "    top_movies = [df['Movie'].iloc[i[0]] for i in similarity_scores[1:6]]\n",
        "\n",
        "    return top_movies\n",
        "\n",
        "# Example usage\n",
        "recommendations = recommend_movies('3 Idiots')\n",
        "print(recommendations)\n"
      ],
      "metadata": {
        "colab": {
          "base_uri": "https://localhost:8080/"
        },
        "id": "ew558JfvwXV7",
        "outputId": "088eb652-824f-4e41-b714-25da01e605d2"
      },
      "execution_count": 4,
      "outputs": [
        {
          "output_type": "stream",
          "name": "stdout",
          "text": [
            "Requirement already satisfied: scikit-learn in /usr/local/lib/python3.10/dist-packages (1.2.2)\n",
            "Requirement already satisfied: pandas in /usr/local/lib/python3.10/dist-packages (2.0.3)\n",
            "Requirement already satisfied: numpy in /usr/local/lib/python3.10/dist-packages (1.25.2)\n",
            "Requirement already satisfied: scipy>=1.3.2 in /usr/local/lib/python3.10/dist-packages (from scikit-learn) (1.11.4)\n",
            "Requirement already satisfied: joblib>=1.1.1 in /usr/local/lib/python3.10/dist-packages (from scikit-learn) (1.4.2)\n",
            "Requirement already satisfied: threadpoolctl>=2.0.0 in /usr/local/lib/python3.10/dist-packages (from scikit-learn) (3.5.0)\n",
            "Requirement already satisfied: python-dateutil>=2.8.2 in /usr/local/lib/python3.10/dist-packages (from pandas) (2.8.2)\n",
            "Requirement already satisfied: pytz>=2020.1 in /usr/local/lib/python3.10/dist-packages (from pandas) (2023.4)\n",
            "Requirement already satisfied: tzdata>=2022.1 in /usr/local/lib/python3.10/dist-packages (from pandas) (2024.1)\n",
            "Requirement already satisfied: six>=1.5 in /usr/local/lib/python3.10/dist-packages (from python-dateutil>=2.8.2->pandas) (1.16.0)\n",
            "['PK', 'Lagaan', 'Dangal', 'Dilwale Dulhania Le Jayenge']\n"
          ]
        }
      ]
    }
  ]
}